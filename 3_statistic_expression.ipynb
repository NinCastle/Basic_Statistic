{
 "cells": [
  {
   "cell_type": "markdown",
   "metadata": {},
   "source": [
    "참조  \n",
    "[너구리 성장기](https://m.blog.naver.com/aporia25/221151700342)  \n",
    "[수학방](https://mathbang.net/72)  \n",
    "[zhiyzuo의 github](https://zhiyzuo.github.io/Plot-Lorenz/)"
   ]
  },
  {
   "cell_type": "markdown",
   "metadata": {},
   "source": [
    "# 3. 통계 시각화\n",
    "---"
   ]
  },
  {
   "cell_type": "markdown",
   "metadata": {},
   "source": [
    "## 양적 자료의 도표요약(자료의 시각화)\n",
    "연속형 자료의 분포양상을 그래프로 시각화하여 이해를 쉽도록 하는 작업을 말한다."
   ]
  },
  {
   "cell_type": "markdown",
   "metadata": {},
   "source": [
    "## 시각화 종류\n",
    "* 히스토그램(Histogram)\n",
    "* 도수다각형(Grequency polygon)\n",
    "* 도수곡선(Frequency curve)\n",
    "* 누적도수분포도(Ogive curve)\n",
    "* 로렌츠곡선(Lorenz Curve)\n",
    "* 상자와 수염도표(Box and whisker plot)"
   ]
  },
  {
   "cell_type": "markdown",
   "metadata": {},
   "source": [
    "## 히스토그램(Histogram)"
   ]
  },
  {
   "cell_type": "markdown",
   "metadata": {},
   "source": [
    "도수분포표로 정리된 변수의 활동 수준을 막대 길이로 표시하며, 수평 또는 수직의 막대를 이용하여 만든 그림"
   ]
  },
  {
   "cell_type": "code",
   "execution_count": 15,
   "metadata": {},
   "outputs": [
    {
     "data": {
      "image/png": "[encoded data removed]",
      "text/plain": [
       "<Figure size 432x288 with 1 Axes>"
      ]
     },
     "metadata": {
      "needs_background": "light"
     },
     "output_type": "display_data"
    }
   ],
   "source": [
    "import numpy as np\n",
    "import matplotlib.mlab as mlab\n",
    "import matplotlib.pyplot as plt\n",
    "\n",
    "x = [10, 12, 21, 22, 50, 100, 77, 32, 33, 34, 35, 36, 37, 18, 49, 50, 100]\n",
    "num_bins = 10\n",
    "n, bins, patches = plt.hist(x, num_bins, facecolor='blue', alpha=0.5)\n",
    "# plt.plot(x, num_bins, 'or')\n",
    "plt.show()"
   ]
  },
  {
   "cell_type": "markdown",
   "metadata": {},
   "source": [
    "## 도수다각형(Grequency polygon)\n",
    "히스토그램의 계급값을 x축의 자료로 하고, y축상의 각 계급에 해당하는 점을 생성하여 선분으로 연결한 선으로 만든 그림"
   ]
  },
  {
   "cell_type": "code",
   "execution_count": 24,
   "metadata": {},
   "outputs": [
    {
     "data": {
      "image/png": "[encoded data removed]",
      "text/plain": [
       "<Figure size 432x288 with 1 Axes>"
      ]
     },
     "metadata": {
      "needs_background": "light"
     },
     "output_type": "display_data"
    }
   ],
   "source": [
    "x = np.arange(1,10)\n",
    "y = x*5\n",
    "\n",
    "plt.plot(x,y,'-or')\n",
    "plt.show()"
   ]
  },
  {
   "cell_type": "markdown",
   "metadata": {},
   "source": [
    "## 도수곡선(Frequency curve)\n",
    "도수분포에서 자료의 개수가 무한히 많은 경우 급간에 간격을 작게 하여 각 급간의 편균을 완만한 곡선으로 이른 곡선"
   ]
  },
  {
   "cell_type": "markdown",
   "metadata": {},
   "source": [
    "## 누적도수분포도\n",
    "각 계급의 경계치에서 **누적도수**의 좌표를 연결하여 이어나가는 방법을 이용하여 구성한 도표"
   ]
  },
  {
   "cell_type": "markdown",
   "metadata": {},
   "source": [
    "## 로렌츠곡선\n",
    "M.로렌츠가 창안한 소득분포의 불평등 정도를 측정하는 방법으로서 누적도수 분포곡선의 한 방식이다.  \n",
    "\"곡선과 대각선 사이의 면적 크기 = 분평등정도의 지표\""
   ]
  },
  {
   "cell_type": "markdown",
   "metadata": {},
   "source": [
    "로렌츠 곡선을 이해하기 위해서는 지니계수의 이해도 필수적이다.\n",
    "* 지니계수(Gini coefficient)란 로렌츠곡선의 경제불평등을 계수화 시킨것이다.  \n",
    "서로다른 불평등을 나타내는 곡선들이 교차하는 경우 비교하기 곤란한 로렌츠 곡선의 단점을 보안 할 수 있다."
   ]
  },
  {
   "cell_type": "markdown",
   "metadata": {},
   "source": [
    "![](https://upload.wikimedia.org/wikipedia/commons/thumb/5/5b/Economics_Gini_coefficient.svg/560px-Economics_Gini_coefficient.svg.png)\n",
    "출처 : https://en.wikipedia.org/wiki/Gini_coefficient"
   ]
  },
  {
   "cell_type": "markdown",
   "metadata": {},
   "source": [
    "\n",
    "지니계수는 다음과 같은 공식으로 구할 수 있다.  \n",
    "Lorenz Curve곡선의 상위 면적 = A  \n",
    "Lorenz Curve곡선의 하위 면적 = B  \n",
    "  \n",
    "$$\n",
    "Gini\\;\\;coefficident = \\frac{A}{A*B} = \\frac{}{}\n",
    "$$"
   ]
  },
  {
   "cell_type": "markdown",
   "metadata": {},
   "source": [
    "결과 값이 완전 평등하다면(A의 값이 0이므로) 0이되고  \n",
    "결과 값이 완전 불평등하다면(B의 값이 0이므로) 1이 된다."
   ]
  },
  {
   "cell_type": "code",
   "execution_count": 5,
   "metadata": {},
   "outputs": [],
   "source": [
    "import numpy as np\n",
    "from matplotlib import pyplot as plt"
   ]
  },
  {
   "cell_type": "code",
   "execution_count": 4,
   "metadata": {},
   "outputs": [
    {
     "data": {
      "text/plain": [
       "array([  9,  16,   4,   9,   9,  11,  12,   8,   9,  14,   8,  13,   5,\n",
       "        10,   9,  10,  10,   9,  13,   4,   7,  11,  14,  11,   9,   8,\n",
       "         8,   1,   7,   8,   7,  12,  10,  11,  13,   8,   8,   8,   7,\n",
       "         7,  98, 107, 100,  97, 100,  92,  93,  78, 109,  92])"
      ]
     },
     "execution_count": 4,
     "metadata": {},
     "output_type": "execute_result"
    }
   ],
   "source": [
    "X = np.append(np.random.poisson(lam=10, size=40),\n",
    "              np.random.poisson(lam=100, size=10))\n",
    "X"
   ]
  },
  {
   "cell_type": "markdown",
   "metadata": {},
   "source": []
  },
  {
   "cell_type": "markdown",
   "metadata": {},
   "source": [
    "## 상자와 수염도표\n",
    "자료들의 최대값과 최소값, 그리고 중앙값 및 사분위수, 이상치 등을 한눈에 파악할 수 있는 도표이며, 전체적인 분포의 양상을 쉽게 파악할 수 있다.  \n",
    "*특히 이상치의 파악*을 위해서 데이터 탐색과정에서 자주 사용된다."
   ]
  },
  {
   "cell_type": "code",
   "execution_count": 25,
   "metadata": {},
   "outputs": [
    {
     "data": {
      "image/png": "[encoded data removed]",
      "text/plain": [
       "<Figure size 432x288 with 1 Axes>"
      ]
     },
     "metadata": {
      "needs_background": "light"
     },
     "output_type": "display_data"
    }
   ],
   "source": [
    "import matplotlib.pyplot as plt\n",
    " \n",
    "value1 = [82,76,24,40,67,62,75,78,71,32,98,89,78,67,72,82,87,66,56,52]\n",
    " \n",
    "box_plot_data=[value1]\n",
    "plt.boxplot(box_plot_data,patch_artist=True,labels=['course1'])\n",
    "plt.show()"
   ]
  },
  {
   "cell_type": "markdown",
   "metadata": {},
   "source": [
    "boxplot 설명"
   ]
  },
  {
   "cell_type": "markdown",
   "metadata": {},
   "source": [
    "![box](https://miro.medium.com/max/9000/1*2c21SkzJMf3frPXPAR_gZA.png)"
   ]
  },
  {
   "cell_type": "markdown",
   "metadata": {},
   "source": [
    "출처: https://towardsdatascience.com/understanding-boxplots-5e2df7bcbd51"
   ]
  },
  {
   "cell_type": "markdown",
   "metadata": {},
   "source": [
    "* Median : 중앙값\n",
    "* Minimum : 최소값\n",
    "* Maximum : 최대값\n",
    "* Q1 : 1사분위수\n",
    "* Q3 : 3사분위수\n",
    "* Outliers : 이상치(사분위간 범위의 3배 이상 떨어진 데이터)"
   ]
  }
 ],
 "metadata": {
  "kernelspec": {
   "display_name": "Python 3",
   "language": "python",
   "name": "python3"
  },
  "language_info": {
   "codemirror_mode": {
    "name": "ipython",
    "version": 3
   },
   "file_extension": ".py",
   "mimetype": "text/x-python",
   "name": "python",
   "nbconvert_exporter": "python",
   "pygments_lexer": "ipython3",
   "version": "3.5.3"
  }
 },
 "nbformat": 4,
 "nbformat_minor": 2
}
