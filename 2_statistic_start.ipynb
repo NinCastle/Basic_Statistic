{
 "cells": [
  {
   "cell_type": "markdown",
   "metadata": {},
   "source": [
    "참조  \n",
    "[너구리 성장기](https://m.blog.naver.com/aporia25/221151410416)  \n",
    "[하르미](https://m.blog.naver.com/PostView.nhn?blogId=hlkim96&logNo=220766188955&proxyReferer=https%3A%2F%2Fwww.google.com%2F)  \n",
    "[홍박사의 데이터 노트](https://drhongdatanote.tistory.com/3)"
   ]
  },
  {
   "cell_type": "markdown",
   "metadata": {},
   "source": [
    "# 2. 자료의 종류\n",
    "---"
   ]
  },
  {
   "cell_type": "markdown",
   "metadata": {},
   "source": [
    "## 척도의 정의와 종류\n",
    "* 척도 : 탐구하고자하는 물리계의 대체적인 크기이며, 지도나 현미경 사잔등에서 실제 크기와 그림상의 크기의 비를 나타내기도 한다. 이런의미로는 축척이라고 한다. 척도는 저울이나 자 등에서 질량이나 길이를 나타내는 금을 가리키기도 한다.  \n",
    "이런 의미에서 눈금이라는 말을 더 많이 쓴다. 영어로는 scale이라고 하며 저울이나 자를 의미하기도 한다.\n",
    "\n",
    "ex) 과일 : 사과 = 1, 딸기 = 2, 배 = 3, 토마토 = 4, 수박 = 5  \n",
    "  \n",
    "* 척도의 종류 : 명목척도, 서열척도, 등간척도, 비율척도"
   ]
  },
  {
   "cell_type": "markdown",
   "metadata": {},
   "source": [
    "|종류|정의|예|구분|분석방법|\n",
    "|---|---|---|---|---|\n",
    "|명목척도|측정대상(응답자)을 단지를 분류할 목적으로 숫자를 부여한 척도|성별|범주형자료(질적자료)|빈도분석|\n",
    "|서열척도|측정대상(응답자)간에 순서/서열적의미(높고 낮음)가 있는 척도|학력|범주형자료(질적자료)|빈도분석|\n",
    "|등간척도|측정대상(응답자)간에 순서뿐만 아니라 숫자의 간격이 동일하여 양적인 정도를 알 수 있는 척도|온도|연속형자료(양적자료)|기술통계 분석|\n",
    "|비율척도|등간척도와 유사하나, 0의 의미가 없는 척도|소득|연속형자료(양적자료)|기술통계 분석|"
   ]
  },
  {
   "cell_type": "markdown",
   "metadata": {},
   "source": [
    "* 자료의 종류\n",
    "    - 양적자료 : 숫자로 얻을 수 있는 또는 표현할 수 있는 데이터, 빈도분석으로 명수(응답수), 비율(%)로 요약\n",
    "        1. 범주: 성별(남자, 여자)\n",
    "        2. 서열: 교육수준(중졸, 고졸, 대졸, 대학원 이상)\n",
    "    - 질적자료 : 숫자료 표현되지 않는 데이터, 기술통계분석으로 평균, 표준편차, 왜도/첨도 등으로 요약 이산형 자료(Discrete data)와 연속형 자료(Continuous data)로 구분\n",
    "        1. 등간: 온도, 성적\n",
    "        2. 비율: 키, 몸무게, 소득"
   ]
  }
 ],
 "metadata": {
  "kernelspec": {
   "display_name": "Python 3",
   "language": "python",
   "name": "python3"
  },
  "language_info": {
   "codemirror_mode": {
    "name": "ipython",
    "version": 3
   },
   "file_extension": ".py",
   "mimetype": "text/x-python",
   "name": "python",
   "nbconvert_exporter": "python",
   "pygments_lexer": "ipython3",
   "version": "3.6.7"
  }
 },
 "nbformat": 4,
 "nbformat_minor": 2
}
