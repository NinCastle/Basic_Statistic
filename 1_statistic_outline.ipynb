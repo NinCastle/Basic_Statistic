{
 "cells": [
  {
   "cell_type": "markdown",
   "metadata": {},
   "source": [
    "### 참조\n",
    "[제대로 시작하는 기초통계학-노영섭](https://www.youtube.com/watch?v=saCv9cBvT7U&list=PLsri7w6p16vs-rMb1uXHfh3FiCk2WjEUG&index=2)  \n",
    "[너구리 성장기](https://m.blog.naver.com/aporia25/221151361694)"
   ]
  },
  {
   "cell_type": "markdown",
   "metadata": {},
   "source": [
    "# 기초통개학 개요\n",
    "----"
   ]
  },
  {
   "cell_type": "markdown",
   "metadata": {},
   "source": [
    "## 통계학(Staticstics)을 공부하는 이유\n",
    "1. 통계학을 적용한 자료는 신뢰성을 가진다.\n",
    "2. 통계는 의사결정에 주요한 근거 자료로서 사용될 수 있다.\n",
    "3. 통계는 실제 현상에 대한 분석이며 실증자료를 이용하여 현상을 이야기한다."
   ]
  },
  {
   "cell_type": "markdown",
   "metadata": {},
   "source": [
    "## 통계학의 개념\n",
    "통계란 [자료수집 > 구성 > 요약 > 통계 처리, 분석 > 결론]으로 *논리적인(객관적인)* 근거를 바탕으로한 합리적 의사결정에 도움이 되는 과학적 방법의 하나로 볼 수 있다.  \n",
    "  \n",
    "## 통계학을 배우는 이유\n",
    "통계학을 통해서 과거에서부터 현재까지 일어난 기록과 데이터를 이용하여 현상태를 이해 할 수 있고, 더 나아가 미래에 일어나는 일들 까지 예측하고 대비하는 것이 가능하기 때문이다.  \n",
    "ex)  \n",
    "> 여성 음주는 1998년 23.5%에 불과하였으나 2001년 36.9%, 2005년 41.5%, 2007년 44.9%를 보이며 지속적으로 증가하였다. [보건복지부 질병관리본부 조사결과]\n",
    "  \n",
    "|기간|음주율|\n",
    "|---|---|\n",
    "|1998|23.5%|\n",
    "|2001|36.9%|\n",
    "|2005|41.5%|\n",
    "|2007|44.9%|\n",
    "\n",
    "위와 같은 사건을 이용하여 현상을 이해하고 이를 통해 신제품을 개발하는 것이 가능해졌다.\n",
    "### <span style=\"color:red\">여성 애주가</span>를 위한 '순한 맛의 세련된 소주'라는 컨셉 전략\n",
    "* 희석공법 대신 대나무 숯 여과공법으로 부드러운 맛 개발\n",
    "* 25도 -> 21도 -> 19도 -> 17도로 알코올 농도를 낮게 하여 순한 맛 개발\n",
    "* 세련된 병과 뚜껑 패키지 디자인 개발  \n",
    "  \n",
    "-출처 : 숭실대학교 사이버학습관 (주)와이즈인컴퍼니"
   ]
  },
  {
   "cell_type": "markdown",
   "metadata": {},
   "source": [
    "## 기술통계와 추론통계\n",
    "기술통계(Descriptive statistics): 수집된 데이터(표본)를 요약하고 기술하는 것  \n",
    "  \n",
    "$$\n",
    "\\downarrow\n",
    "$$  \n",
    "  \n",
    "추론통계(Inferential statistics) : 수집된 데이터(표본)를 근거로 모집단의 특성을 일반화 하는 것"
   ]
  },
  {
   "cell_type": "markdown",
   "metadata": {},
   "source": [
    "### 통계학의 목적\n",
    "- 의사결정\n",
    "- 불확실성의 해서\n",
    "- 요약\n",
    "- 연관성 파악\n",
    "- 예측"
   ]
  }
 ],
 "metadata": {
  "kernelspec": {
   "display_name": "Python 3",
   "language": "python",
   "name": "python3"
  },
  "language_info": {
   "codemirror_mode": {
    "name": "ipython",
    "version": 3
   },
   "file_extension": ".py",
   "mimetype": "text/x-python",
   "name": "python",
   "nbconvert_exporter": "python",
   "pygments_lexer": "ipython3",
   "version": "3.6.7"
  }
 },
 "nbformat": 4,
 "nbformat_minor": 2
}
